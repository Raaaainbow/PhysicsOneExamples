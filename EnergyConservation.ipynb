{
  "cells": [
    {
      "cell_type": "markdown",
      "metadata": {},
      "source": [
        "# ♻️ Chapter 8 – Energy Conservation Problems\n",
        "Solved using Victor's `PhysicsOneA.energy_conversion` module (used for conservation & conversion)."
      ]
    },
    {
      "cell_type": "code",
      "execution_count": null,
      "metadata": {},
      "outputs": [],
      "source": [
        "from PhysicsOneA import *\n",
        "from PhysicsOneA.dependencies import *"
      ]
    },
    {
      "cell_type": "markdown",
      "metadata": {},
      "source": [
        "## 🟠 Problem 2 – Friction and Energy\n",
        "A block slides from height H, across a rough section of length L, and climbs to height h."
      ]
    },
    {
      "cell_type": "code",
      "execution_count": null,
      "metadata": {},
      "outputs": [],
      "source": [
        "H = 5.0  # m\n",
        "h = 2.0   # m\n",
        "\n",
        "# a) Speed at point (3): From energy conservation: v = sqrt(2g(H - h))\n",
        "v3 = speed_from_height_drop(H, h)\n",
        "print(f\"Speed at point (3): {v3:.2f} m/s\")\n",
        "\n",
        "# b) Work done by friction: equals loss in mechanical energy\n",
        "m = 1.0  # assume symbolic\n",
        "delta_E = gravitational_potential_energy(m, H) - gravitational_potential_energy(m, h)\n",
        "print(f\"Work done by friction (W = ΔE): {delta_E:.2f} J (per 1 kg)\")"
      ]
    },
    {
      "cell_type": "markdown",
      "metadata": {},
      "source": [
        "## 🟠 Problem 3 – Airborne distance from ramp"
      ]
    },
    {
      "cell_type": "code",
      "execution_count": null,
      "metadata": {},
      "outputs": [],
      "source": [
        "v0 = 10.0  # m/s\n",
        "h = 3.0  # m\n",
        "\n",
        "# Time to fall h: h = 1/2 * g * t^2 => t = sqrt(2h/g)\n",
        "t = sqrt((2 * h) / gravity())\n",
        "x = v0 * t\n",
        "print(f\"Horizontal airborne distance: {x:.2f} m\")"
      ]
    },
    {
      "cell_type": "markdown",
      "metadata": {},
      "source": [
        "## 🟠 Problem 4 – Block in circular track"
      ]
    },
    {
      "cell_type": "code",
      "execution_count": null,
      "metadata": {},
      "outputs": [],
      "source": [
        "R = 2.0  # radius (assumed)\n",
        "theta_deg = 60.0\n",
        "theta = radians(theta_deg)\n",
        "\n",
        "# b) Speed as function of theta: mgh = 1/2 mv^2 => v = sqrt(2gR(1 - cos(theta)))\n",
        "v = sqrt(2 * gravity() * R * (1 - cos(theta)))\n",
        "print(f\"Speed at θ = {theta_deg}°: {v:.2f} m/s\")"
      ]
    },
    {
      "cell_type": "markdown",
      "metadata": {},
      "source": [
        "## 🟠 Problem 5 – Mass dropped onto spring"
      ]
    },
    {
      "cell_type": "code",
      "execution_count": null,
      "metadata": {},
      "outputs": [],
      "source": [
        "m = 1.20\n",
        "h = 0.80\n",
        "k = 1600\n",
        "\n",
        "d = spring_compression_from_fall(m, h, k)\n",
        "print(f\"Max compression of spring: {d:.4f} m\")"
      ]
    },
    {
      "cell_type": "markdown",
      "metadata": {},
      "source": [
        "## 🟠 Problem 6 – Block in valley with friction"
      ]
    },
    {
      "cell_type": "code",
      "execution_count": null,
      "metadata": {},
      "outputs": [],
      "source": [
        "mu_k = 0.5\n",
        "d = 2.0  # assumed horizontal distance\n",
        "\n",
        "# Friction removes 2μmgd energy: equate it to mgh ⇒ h = μd\n",
        "h = mu_k * d\n",
        "print(f\"Stopping height due to friction: {h:.2f} m\")"
      ]
    },
    {
      "cell_type": "markdown",
      "metadata": {},
      "source": [
        "## 🟠 Problem 7 – Pendulum motion"
      ]
    },
    {
      "cell_type": "code",
      "execution_count": null,
      "metadata": {},
      "outputs": [],
      "source": [
        "R = 2.0  # length\n",
        "theta_deg = 60\n",
        "theta = radians(theta_deg)\n",
        "\n",
        "# a) v = sqrt(2gR(1 - cos(theta)))\n",
        "v = sqrt(2 * gravity() * R * (1 - cos(theta)))\n",
        "print(f\"Speed at lowest point: {v:.2f} m/s\")"
      ]
    },
    {
      "cell_type": "markdown",
      "metadata": {},
      "source": [
        "## 🟠 Problem 8 – Pendulum hits nail\n",
        "Minimum value of d for full rotation is 3/5 L, derived from energy and centripetal force."
      ]
    }
  ],
  "metadata": {
    "kernelspec": {
      "display_name": "Python 3",
      "language": "python",
      "name": "python3"
    },
    "language_info": {
      "name": "python",
      "version": "3.9"
    }
  },
  "nbformat": 4,
  "nbformat_minor": 5
}
