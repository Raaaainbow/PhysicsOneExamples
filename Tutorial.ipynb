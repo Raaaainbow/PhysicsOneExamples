{
 "cells": [
  {
   "cell_type": "markdown",
   "id": "2f278982",
   "metadata": {},
   "source": [
    "# So how do I install this package?"
   ]
  },
  {
   "cell_type": "markdown",
   "id": "e1c1faff",
   "metadata": {},
   "source": [
    "Well.. It's easy!"
   ]
  },
  {
   "cell_type": "markdown",
   "id": "81ea6017",
   "metadata": {},
   "source": [
    "First do:"
   ]
  },
  {
   "cell_type": "code",
   "execution_count": null,
   "id": "9d5fa045",
   "metadata": {},
   "outputs": [],
   "source": [
    "pip install PhysicsOneA"
   ]
  },
  {
   "cell_type": "markdown",
   "id": "a4014deb",
   "metadata": {},
   "source": [
    "Then make a brand new notebook and write the following lines:"
   ]
  },
  {
   "cell_type": "code",
   "execution_count": null,
   "id": "637d24b3",
   "metadata": {},
   "outputs": [],
   "source": [
    "from PhysicsOneA import *\n",
    "from PhysicsOneA.dependencies import *"
   ]
  },
  {
   "cell_type": "markdown",
   "id": "64efeb2c",
   "metadata": {},
   "source": [
    "And enjoy :D"
   ]
  }
 ],
 "metadata": {
  "language_info": {
   "name": "python"
  }
 },
 "nbformat": 4,
 "nbformat_minor": 5
}
