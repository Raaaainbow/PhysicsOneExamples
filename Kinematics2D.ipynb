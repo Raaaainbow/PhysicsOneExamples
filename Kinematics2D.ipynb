{
 "cells": [
  {
   "cell_type": "markdown",
   "id": "e35b79c5",
   "metadata": {},
   "source": [
    "# Chapter 4 - Problems"
   ]
  },
  {
   "cell_type": "code",
   "execution_count": 54,
   "id": "7d5776b8",
   "metadata": {},
   "outputs": [],
   "source": [
    "from PhysicsOneA import *\n",
    "from PhysicsOneA.dependencies import *"
   ]
  },
  {
   "cell_type": "markdown",
   "id": "dadeaff9",
   "metadata": {},
   "source": [
    "# Exercise 1"
   ]
  },
  {
   "cell_type": "code",
   "execution_count": 55,
   "id": "df294bc0",
   "metadata": {},
   "outputs": [
    {
     "name": "stdout",
     "output_type": "stream",
     "text": [
      "[['v2', 1], ['v3', 2], ['v1', 3]]\n"
     ]
    }
   ],
   "source": [
    "# Just rank them.\n",
    "# Point 1 is greatest velocity, Point 2 is least velocity, Point 3 is second greatest velocity\n",
    "points = [[\"v1\",3],[\"v2\",1],[\"v3\",2]]\n",
    "# Just sort them, imma use bubble sort cuz im lazy\n",
    "for n in range(len(points) - 1, 0, -1):\n",
    "    swapped = False  \n",
    "    for i in range(n):\n",
    "        if points[i][1] > points[i + 1][1]:\n",
    "            points[i], points[i + 1] = points[i + 1], points[i]\n",
    "            swapped = True\n",
    "    if not swapped:\n",
    "        break\n",
    "\n",
    "print(points)"
   ]
  },
  {
   "cell_type": "markdown",
   "id": "327cf675",
   "metadata": {},
   "source": [
    "So the correct answer is \n",
    "v2 < v3 < v1"
   ]
  },
  {
   "cell_type": "markdown",
   "id": "8a827b36",
   "metadata": {},
   "source": [
    "Correct Answer: E v2 < v3 < v1"
   ]
  },
  {
   "cell_type": "markdown",
   "id": "09a0a634",
   "metadata": {},
   "source": [
    "# Exercise 2"
   ]
  },
  {
   "cell_type": "markdown",
   "id": "6346ab5a",
   "metadata": {},
   "source": [
    "Use the slides or book for this one champ, correct answer E"
   ]
  },
  {
   "cell_type": "markdown",
   "id": "b039eead",
   "metadata": {},
   "source": [
    "# Exercise 3"
   ]
  },
  {
   "cell_type": "markdown",
   "id": "927a69eb",
   "metadata": {},
   "source": [
    "a)"
   ]
  },
  {
   "cell_type": "code",
   "execution_count": 56,
   "id": "e2d8bdd5",
   "metadata": {},
   "outputs": [
    {
     "name": "stdout",
     "output_type": "stream",
     "text": [
      "--- Circular Motion ---\n",
      "Radius r: 6370000.00000 ± 0.00000 m\n",
      "Period T: 86400.00000 ± 0.00000 s\n",
      "v = 463.23947 ± 0.00000 m/s\n",
      "centripetal acceleration = 0.03369 ± 0.00000 m/s²\n",
      "tangential acceleration = N/A\n",
      "Critical period for weightlessness: 5060.50 ± 0.00 seconds (~1.41 ± 0.00 hours)\n"
     ]
    },
    {
     "name": "stderr",
     "output_type": "stream",
     "text": [
      "c:\\Users\\victo\\AppData\\Local\\Programs\\Python\\Python312\\Lib\\site-packages\\uncertainties\\core.py:1024: UserWarning: Using UFloat objects with std_dev==0 may give unexpected results.\n",
      "  warn(\"Using UFloat objects with std_dev==0 may give unexpected results.\")\n"
     ]
    }
   ],
   "source": [
    "# For this exercise, we just gotta make a circular motion\n",
    "r = 6370 * 1000 # cuz radius needs to be in meter\n",
    "T = 60*60*24 # cuz it takes a day for the earth to rotate (needs to be in seconds)\n",
    "c = CircularMotion(r=r, T=T)\n",
    "print(c)"
   ]
  },
  {
   "cell_type": "markdown",
   "id": "b67f827e",
   "metadata": {},
   "source": [
    "So answer is 0.03369 m/s^2, because it's a person on the edge of the circle, so centripetal force!"
   ]
  },
  {
   "cell_type": "markdown",
   "id": "f10a8d0e",
   "metadata": {},
   "source": [
    "b)"
   ]
  },
  {
   "cell_type": "markdown",
   "id": "286f8971",
   "metadata": {},
   "source": [
    "Now just read again. Critical period for weightlessness = 5060 seconds or 1.41 hours"
   ]
  },
  {
   "cell_type": "markdown",
   "id": "6ca01626",
   "metadata": {},
   "source": [
    "# Exercise 4"
   ]
  },
  {
   "cell_type": "code",
   "execution_count": 57,
   "id": "5594fb3a",
   "metadata": {},
   "outputs": [
    {
     "name": "stdout",
     "output_type": "stream",
     "text": [
      "--- Projectile Info ---\n",
      "Initial speed (v0): 22.4334+/-0 m/s\n",
      "Launch angle (theta): 50.00+/-0°\n",
      "Horizontal velocity (v0x): 14.4199+/-0 m/s\n",
      "Vertical velocity (v0y): 17.1850+/-0 m/s\n",
      "Initial height (y0): 0.0000+/-0 m\n",
      "Gravity (g): 9.8200+/-0 m/s²\n",
      "\n",
      "--- Derived Quantities ---\n",
      "Time of flight (flat): 3.5000+/-0 s\n",
      "Time of flight (realistic): 3.5000+/-0 s\n",
      "Maximum height: 15.0369+/-0 m\n",
      "Range: 50.4697+/-0 m\n"
     ]
    },
    {
     "name": "stderr",
     "output_type": "stream",
     "text": [
      "C:\\Users\\victo\\Documents\\DTU Kurser\\Fysik 1\\PhysicsOneA\\src\\PhysicsOneA\\Kinematics2D.py:285: FutureWarning: AffineScalarFunc.__gt__() is deprecated. It will be removed in a future release.\n",
      "  return max(t1, t2)\n"
     ]
    }
   ],
   "source": [
    "angle = degree_to_radian(50) # radians\n",
    "tof = 3.5 # seconds (time of flight)\n",
    "proj = Projectile(theta=angle, time_of_flight=tof)\n",
    "print(proj)"
   ]
  },
  {
   "cell_type": "markdown",
   "id": "edc99dca",
   "metadata": {},
   "source": [
    "Initial speed is 14.42 m/s, cause it is thrown horizontally as seen on the illustration, so it's actually not the v0 variable, it's the v0x variable!"
   ]
  },
  {
   "cell_type": "markdown",
   "id": "e021e413",
   "metadata": {},
   "source": [
    "# Exercise 5"
   ]
  },
  {
   "cell_type": "code",
   "execution_count": 58,
   "id": "71b63f0c",
   "metadata": {},
   "outputs": [
    {
     "name": "stdout",
     "output_type": "stream",
     "text": [
      "--- Projectile Info ---\n",
      "Initial speed (v0): 13.7020+/-0 m/s\n",
      "Launch angle (theta): 10.20+/-0°\n",
      "Horizontal velocity (v0x): 13.4852+/-0 m/s\n",
      "Vertical velocity (v0y): 2.4273+/-0 m/s\n",
      "Initial height (y0): 0.0000+/-0 m\n",
      "Gravity (g): 9.8200+/-0 m/s²\n",
      "\n",
      "--- Derived Quantities ---\n",
      "Time of flight (flat): 0.4944+/-0 s\n",
      "Time of flight (realistic): 0.4944+/-0 s\n",
      "Maximum height: 0.3000+/-0 m\n",
      "Range: 6.6667+/-0 m\n"
     ]
    },
    {
     "name": "stderr",
     "output_type": "stream",
     "text": [
      "C:\\Users\\victo\\Documents\\DTU Kurser\\Fysik 1\\PhysicsOneA\\src\\PhysicsOneA\\Kinematics2D.py:172: FutureWarning: AffineScalarFunc.__gt__() is deprecated. It will be removed in a future release.\n",
      "  t_down = max(\n"
     ]
    }
   ],
   "source": [
    "height = 30/100 # cause it needs to be meters\n",
    "length = 10 # meters\n",
    "\n",
    "proj = Projectile(max_height=height, range_=length)\n",
    "print(proj)"
   ]
  },
  {
   "cell_type": "markdown",
   "id": "6022bfb8",
   "metadata": {},
   "source": [
    "So initial speed = 20.3812 m/s\n",
    "\n",
    "initial angle = 6.84 degrees\n",
    "\n",
    "duration of flight = 0.4944 s\n",
    "\n",
    "easy innit?"
   ]
  },
  {
   "cell_type": "markdown",
   "id": "42d6257e",
   "metadata": {},
   "source": [
    "# Exercise 6"
   ]
  },
  {
   "cell_type": "markdown",
   "id": "28fa1bcb",
   "metadata": {},
   "source": [
    "So another projectile xD"
   ]
  },
  {
   "cell_type": "code",
   "execution_count": 59,
   "id": "1570001d",
   "metadata": {},
   "outputs": [
    {
     "name": "stdout",
     "output_type": "stream",
     "text": [
      "--- Projectile Info ---\n",
      "Initial speed (v0): 8.0310+/-0 m/s\n",
      "Launch angle (theta): 60.75+/-0°\n",
      "Horizontal velocity (v0x): 3.9240+/-0 m/s\n",
      "Vertical velocity (v0y): 7.0071+/-0 m/s\n",
      "Initial height (y0): 3.0000+/-0 m\n",
      "Gravity (g): 9.8200+/-0 m/s²\n",
      "\n",
      "--- Derived Quantities ---\n",
      "Time of flight (flat): 1.4271+/-0 s\n",
      "Time of flight (realistic): 1.7719+/-0 s\n",
      "Maximum height: 5.5000+/-0 m\n",
      "Range: 5.6000+/-0 m\n"
     ]
    }
   ],
   "source": [
    "startpoint = [0, 3]\n",
    "endpoint = [2.8, 0] \n",
    "max_height=5.5 # meters\n",
    "# REMEMBER: you can only use ONE of the combinations in the docustring if you hold over Projectile class\n",
    "diver = Projectile(start=startpoint, end=endpoint, max_height=max_height)\n",
    "print(diver)\n"
   ]
  }
 ],
 "metadata": {
  "kernelspec": {
   "display_name": "Python 3",
   "language": "python",
   "name": "python3"
  },
  "language_info": {
   "codemirror_mode": {
    "name": "ipython",
    "version": 3
   },
   "file_extension": ".py",
   "mimetype": "text/x-python",
   "name": "python",
   "nbconvert_exporter": "python",
   "pygments_lexer": "ipython3",
   "version": "3.12.8"
  }
 },
 "nbformat": 4,
 "nbformat_minor": 5
}
