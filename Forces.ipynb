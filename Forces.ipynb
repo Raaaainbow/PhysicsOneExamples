{
 "cells": [
  {
   "cell_type": "markdown",
   "id": "0a6fc95f",
   "metadata": {},
   "source": [
    "This contains answers for all Forces Exercises (1-20)"
   ]
  },
  {
   "cell_type": "code",
   "execution_count": 1,
   "id": "72384a2b",
   "metadata": {},
   "outputs": [
    {
     "name": "stderr",
     "output_type": "stream",
     "text": [
      "c:\\Users\\victo\\AppData\\Local\\Programs\\Python\\Python312\\Lib\\site-packages\\uncertainties\\core.py:1024: UserWarning: Using UFloat objects with std_dev==0 may give unexpected results.\n",
      "  warn(\"Using UFloat objects with std_dev==0 may give unexpected results.\")\n"
     ]
    }
   ],
   "source": [
    "from PhysicsOneA import *\n",
    "from PhysicsOneA.dependencies import *"
   ]
  },
  {
   "cell_type": "markdown",
   "id": "6bbbca1a",
   "metadata": {},
   "source": [
    "# Exercise 2"
   ]
  },
  {
   "cell_type": "markdown",
   "id": "19a0077f",
   "metadata": {},
   "source": [
    "c)"
   ]
  },
  {
   "cell_type": "code",
   "execution_count": 2,
   "id": "8983d611",
   "metadata": {},
   "outputs": [
    {
     "name": "stdout",
     "output_type": "stream",
     "text": [
      "Acceleration: -3.820+/-0 m/s²\n",
      "Tension: 12.000+/-0 N\n"
     ]
    }
   ],
   "source": [
    "F = 30.0  # N\n",
    "mA = 3.0  # kg\n",
    "mB = 2.0  # kg\n",
    "\n",
    "a = acceleration_of_two_blocks(F, mA, mB)\n",
    "T = tension_in_rope(mB, a)\n",
    "\n",
    "print(f\"Acceleration: {a:.3f} m/s²\")\n",
    "print(f\"Tension: {T:.3f} N\")"
   ]
  },
  {
   "cell_type": "markdown",
   "id": "440fedd2",
   "metadata": {},
   "source": [
    "# Exercise 3"
   ]
  },
  {
   "cell_type": "code",
   "execution_count": 3,
   "id": "cc964360",
   "metadata": {},
   "outputs": [
    {
     "name": "stdout",
     "output_type": "stream",
     "text": [
      "Maximum force: 4.50+/-0 N (from t = 6s to 10s)\n"
     ]
    }
   ],
   "source": [
    "m = 2.0  # kg\n",
    "\n",
    "# a) Max force: 6–10s: v goes from 3 to 12\n",
    "dv = 12 - 3\n",
    "dt = 10 - 6\n",
    "f_max = net_force_from_velocity_change(m, dv, dt)\n",
    "print(f\"Maximum force: {f_max:.2f} N (from t = 6s to 10s)\")"
   ]
  },
  {
   "cell_type": "code",
   "execution_count": 4,
   "id": "e24ab2dd",
   "metadata": {},
   "outputs": [
    {
     "name": "stdout",
     "output_type": "stream",
     "text": [
      "Force is zero from t = 2s to t = 6s\n"
     ]
    }
   ],
   "source": [
    "# b) Zero force happens when dv = 0 over dt\n",
    "# That’s between t = 2s to t = 6s\n",
    "\n",
    "print(\"Force is zero from t = 2s to t = 6s\")"
   ]
  },
  {
   "cell_type": "code",
   "execution_count": 5,
   "id": "69c94039",
   "metadata": {},
   "outputs": [
    {
     "name": "stdout",
     "output_type": "stream",
     "text": [
      "Force at t = 1.4s: 3.00+/-0 N\n"
     ]
    }
   ],
   "source": [
    "# c) At t = 1.4s, we’re in 0–2s interval, where v goes from 0 to 3 m/s\n",
    "dv = 3 - 0\n",
    "dt = 2\n",
    "f_14 = net_force_from_velocity_change(m, dv, dt)\n",
    "print(f\"Force at t = 1.4s: {f_14:.2f} N\")"
   ]
  },
  {
   "cell_type": "markdown",
   "id": "0fc2db33",
   "metadata": {},
   "source": [
    "# Exercise 4"
   ]
  },
  {
   "cell_type": "code",
   "execution_count": 6,
   "id": "0e81a028",
   "metadata": {},
   "outputs": [
    {
     "name": "stdout",
     "output_type": "stream",
     "text": [
      "Acceleration of block: -1.446+/-0 m/s²\n",
      "Normal force on block: 52.522+/-0 N\n"
     ]
    }
   ],
   "source": [
    "# Problemdata\n",
    "m = 5.0         # kg\n",
    "F = 20.0        # N\n",
    "theta = 30.0    # degrees\n",
    "\n",
    "# b) Acceleration\n",
    "a = inclined_plane_acceleration(m, F, theta)\n",
    "print(f\"Acceleration of block: {a:.3f} m/s²\")\n",
    "\n",
    "# c) Normal force\n",
    "N = normal_force_on_incline(m, F, theta)\n",
    "print(f\"Normal force on block: {N:.3f} N\")"
   ]
  },
  {
   "cell_type": "markdown",
   "id": "62593eb6",
   "metadata": {},
   "source": [
    "# Exercise 5"
   ]
  },
  {
   "cell_type": "code",
   "execution_count": null,
   "id": "8ecdfd7f",
   "metadata": {},
   "outputs": [
    {
     "name": "stdout",
     "output_type": "stream",
     "text": [
      "a) Acceleration: 2.00+/-0 m/s²\n",
      "b) Tension T_BC: 4.00+/-0 N\n",
      "c) Tension T_AB: 10.00+/-0 N\n"
     ]
    }
   ],
   "source": [
    "# Problemdata\n",
    "mA = 4.0  # kg\n",
    "mB = 3.0  # kg\n",
    "mC = 2.0  # kg\n",
    "F = 18.0  # N\n",
    "\n",
    "# a) calc acceleration\n",
    "a = three_block_acceleration(mA, mB, mC, F)\n",
    "print(f\"a) Acceleration: {a:.2f} m/s²\")\n",
    "\n",
    "# b) tension between block B and C\n",
    "T_BC = tension_bc(mC, a)\n",
    "print(f\"b) Tension T_BC: {T_BC:.2f} N\")\n",
    "\n",
    "# c) tension between block A and B\n",
    "T_AB = tension_ab(mB, mC, a)\n",
    "print(f\"c) Tension T_AB: {T_AB:.2f} N\")"
   ]
  },
  {
   "cell_type": "markdown",
   "id": "44e430c7",
   "metadata": {},
   "source": [
    "# We go to Forces 2/2 cause the rest is by hand (we skip everything that's by hand)"
   ]
  },
  {
   "cell_type": "markdown",
   "id": "cfadb199",
   "metadata": {},
   "source": [
    "# Exercise 6"
   ]
  },
  {
   "cell_type": "code",
   "execution_count": 8,
   "id": "48dbb5c6",
   "metadata": {},
   "outputs": [
    {
     "name": "stdout",
     "output_type": "stream",
     "text": [
      "Unstretched length: 0.840+/-0 m\n"
     ]
    }
   ],
   "source": [
    "L0 = unstretched_length_of_spring(0.200, 1.0, 3.14, 5.0)\n",
    "print(f\"Unstretched length: {L0:.3f} m\")"
   ]
  }
 ],
 "metadata": {
  "kernelspec": {
   "display_name": "Python 3",
   "language": "python",
   "name": "python3"
  },
  "language_info": {
   "codemirror_mode": {
    "name": "ipython",
    "version": 3
   },
   "file_extension": ".py",
   "mimetype": "text/x-python",
   "name": "python",
   "nbconvert_exporter": "python",
   "pygments_lexer": "ipython3",
   "version": "3.12.8"
  }
 },
 "nbformat": 4,
 "nbformat_minor": 5
}
