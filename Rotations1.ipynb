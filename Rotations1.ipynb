{
  "cells": [
    {
      "cell_type": "markdown",
      "metadata": {},
      "source": [
        "# 🌀 Chapter 10 – Rotational Energy & Inertia\n",
        "Solved using `PhysicsOneA.rotation_energy` module"
      ]
    },
    {
      "cell_type": "code",
      "execution_count": null,
      "metadata": {},
      "outputs": [],
      "source": [
        "from PhysicsOneA import *\n",
        "from PhysicsOneA.dependencies import *"
      ]
    },
    {
      "cell_type": "markdown",
      "metadata": {},
      "source": [
        "## 🔸 Problem 1 – Rotational kinetic energy of a disk"
      ]
    },
    {
      "cell_type": "code",
      "execution_count": null,
      "metadata": {},
      "outputs": [],
      "source": [
        "m = 2.0\n",
        "R = 0.50\n",
        "omega = 12.0\n",
        "\n",
        "I = inertia_solid_cylinder(m, R)\n",
        "K = rotational_kinetic_energy(I, omega)\n",
        "print(f\"Rotational KE: {K:.2f} J\")"
      ]
    },
    {
      "cell_type": "markdown",
      "metadata": {},
      "source": [
        "## 🔸 Problem 2 – Total kinetic energy of a rolling cylinder"
      ]
    },
    {
      "cell_type": "code",
      "execution_count": null,
      "metadata": {},
      "outputs": [],
      "source": [
        "m = 3.0\n",
        "R = 0.4\n",
        "v_cm = 5.0\n",
        "omega = v_cm / R\n",
        "\n",
        "I = inertia_solid_cylinder(m, R)\n",
        "K = combined_kinetic_energy(I, omega, m, v_cm)\n",
        "print(f\"Total KE (rolling): {K:.2f} J\")"
      ]
    },
    {
      "cell_type": "markdown",
      "metadata": {},
      "source": [
        "## 🔸 Problem 3 – Parallel axis for rod"
      ]
    },
    {
      "cell_type": "code",
      "execution_count": null,
      "metadata": {},
      "outputs": [],
      "source": [
        "m = 0.8\n",
        "L = 1.2\n",
        "d = L / 2\n",
        "\n",
        "I_cm = inertia_thin_rod_center(m, L)\n",
        "I_end = parallel_axis(I_cm, m, d)\n",
        "print(f\"I_end = {I_end:.4f} kg·m²\")"
      ]
    },
    {
      "cell_type": "markdown",
      "metadata": {},
      "source": [
        "## 🔸 Problem 4 – Hoop rolling and total energy"
      ]
    },
    {
      "cell_type": "code",
      "execution_count": null,
      "metadata": {},
      "outputs": [],
      "source": [
        "m = 4.0\n",
        "R = 0.30\n",
        "v_cm = 2.5\n",
        "omega = v_cm / R\n",
        "\n",
        "I = inertia_hoop(m, R)\n",
        "K = combined_kinetic_energy(I, omega, m, v_cm)\n",
        "print(f\"Total KE (hoop): {K:.2f} J\")"
      ]
    },
    {
      "cell_type": "markdown",
      "metadata": {},
      "source": [
        "## 🔸 Problem 5 – Conservation with rolling ball"
      ]
    },
    {
      "cell_type": "code",
      "execution_count": null,
      "metadata": {},
      "outputs": [],
      "source": [
        "m = 1.0\n",
        "R = 0.1\n",
        "h = 2.0\n",
        "\n",
        "I = inertia_sphere(m, R)\n",
        "v_cm = sqrt((10/7) * gravity() * h)\n",
        "print(f\"Speed at bottom: {v_cm:.2f} m/s\")"
      ]
    },
    {
      "cell_type": "markdown",
      "metadata": {},
      "source": [
        "## 🔸 Problem 6 – Spherical shell rolls up a hill"
      ]
    },
    {
      "cell_type": "code",
      "execution_count": null,
      "metadata": {},
      "outputs": [],
      "source": [
        "m = 0.6\n",
        "R = 0.15\n",
        "v = 3.0\n",
        "\n",
        "I = inertia_spherical_shell(m, R)\n",
        "K = combined_kinetic_energy(I, v / R, m, v)\n",
        "h = K / (m * gravity())\n",
        "print(f\"Max height reached: {h:.2f} m\")"
      ]
    }
  ],
  "metadata": {
    "kernelspec": {
      "display_name": "Python 3",
      "language": "python",
      "name": "python3"
    },
    "language_info": {
      "name": "python",
      "version": "3.9"
    }
  },
  "nbformat": 4,
  "nbformat_minor": 5
}
