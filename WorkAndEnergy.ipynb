{
  "cells": [
    {
      "cell_type": "markdown",
      "metadata": {},
      "source": [
        "# 💼 Work & Energy – PhysicsOneA Package Demo\n",
        "This notebook solves selected problems from Chapter 7 using Victor's physics package."
      ]
    },
    {
      "cell_type": "code",
      "execution_count": null,
      "metadata": {},
      "outputs": [],
      "source": [
        "from PhysicsOneA import *\n",
        "from PhysicsOneA.dependencies import *"
      ]
    },
    {
      "cell_type": "markdown",
      "metadata": {},
      "source": [
        "## 🔹 Problem 1\n",
        "A block on a smooth table is pushed by a constant force.\n",
        "\n",
        "Since velocity increases linearly, and power = F·v, power increases linearly ⇒ **Answer: Linearly increasing graph.**"
      ]
    },
    {
      "cell_type": "markdown",
      "metadata": {},
      "source": [
        "## 🔹 Problem 2a – Smooth surface (no friction)"
      ]
    },
    {
      "cell_type": "code",
      "execution_count": null,
      "metadata": {},
      "outputs": [],
      "source": [
        "m = 5.0  # kg\n",
        "F = 20.0  # N\n",
        "L = 10.0  # m\n",
        "theta = 30.0\n",
        "\n",
        "# Net work = F·cos(theta)·L = ΔK = 1/2 m v²\n",
        "W = work(F, L, angle_deg=theta)\n",
        "v = sqrt((2 * W / m).n)\n",
        "print(f\"Speed after moving {L} m: {v:.2f} m/s\")"
      ]
    },
    {
      "cell_type": "markdown",
      "metadata": {},
      "source": [
        "## 🔹 Problem 2b – Rough surface (with friction)"
      ]
    },
    {
      "cell_type": "code",
      "execution_count": null,
      "metadata": {},
      "outputs": [],
      "source": [
        "mu_k = 0.2\n",
        "W_fric = friction_work(mu_k, m, L)\n",
        "W_net = work(F, L, theta) + W_fric\n",
        "v_fric = sqrt((2 * W_net / m).n)\n",
        "print(f\"Speed with friction: {v_fric:.2f} m/s\")"
      ]
    },
    {
      "cell_type": "markdown",
      "metadata": {},
      "source": [
        "## 🔹 Problem 3 – Constant speed (net work = 0)"
      ]
    },
    {
      "cell_type": "code",
      "execution_count": null,
      "metadata": {},
      "outputs": [],
      "source": [
        "m1 = 3.0  # kg (table block)\n",
        "m2 = 2.0  # kg (hanging)\n",
        "mu_k = 0.2\n",
        "d = 4.0  # m\n",
        "\n",
        "# Work done by friction on m1\n",
        "W_f = friction_work(mu_k, m1, d)\n",
        "# Tension does +W, friction does -W, so their work cancels\n",
        "print(f\"Work by friction on m1: {W_f:.2f} J\")\n",
        "print(\"Work by tension on m1: +{:.2f} J\".format(abs(W_f)))\n",
        "\n",
        "# Work on m2 (constant speed ⇒ ΔK = 0)\n",
        "W_grav = gravity_work(m2, 0, -d)\n",
        "print(f\"Work by gravity on m2: {W_grav:.2f} J\")\n",
        "print(f\"Work by tension on m2: {-W_grav:.2f} J\")"
      ]
    },
    {
      "cell_type": "markdown",
      "metadata": {},
      "source": [
        "## 🔹 Problem 4 – Hilly terrain with spring and friction\n",
        "A 5.00 kg block moves over a hill and compresses a spring after traveling 9.5 m on a rough surface."
      ]
    },
    {
      "cell_type": "code",
      "execution_count": null,
      "metadata": {},
      "outputs": [],
      "source": [
        "m = 5.00\n",
        "h = 12.0\n",
        "v1 = 5.00\n",
        "v2 = 10.0\n",
        "l = 9.5\n",
        "mu_k = 0.35\n",
        "k = 1000  # N/m\n",
        "\n",
        "# a) Work done by friction (from 1 to 2)\n",
        "W_f = friction_work(mu_k, m, l)\n",
        "print(f\"Work done by friction: {W_f:.2f} J\")\n",
        "\n",
        "# b) Speed v3 before hitting spring = v2 (already given)\n",
        "v3 = v2\n",
        "print(f\"Speed before hitting spring: {v3:.2f} m/s\")\n",
        "\n",
        "# c) Max spring compression\n",
        "KE = kinetic_energy(m, v3)\n",
        "U_spring = KE  # All KE goes into spring\n",
        "d = sqrt((2 * U_spring / k).n)\n",
        "print(f\"Max spring compression: {d:.3f} m\")"
      ]
    },
    {
      "cell_type": "markdown",
      "metadata": {},
      "source": [
        "## 🔹 Problem 5 – Lowered block with constant acceleration\n",
        "A block is lowered with acceleration a = g/4 over height h."
      ]
    },
    {
      "cell_type": "code",
      "execution_count": null,
      "metadata": {},
      "outputs": [],
      "source": [
        "from PhysicsOneA.dependencies import g as g_const\n",
        "\n",
        "a = gravity() / 4  # downward\n",
        "m = 1.0  # use m as symbolic for expressions\n",
        "h = 1.0  # same here\n",
        "\n",
        "# a) Tension in rope\n",
        "T = m * (gravity() - a)\n",
        "print(f\"Tension = {T:.2f} mg ⇒ Answer: {(T / (m * gravity())).n:.2f} * mg\")\n",
        "\n",
        "# b) Work done by person\n",
        "W = T * h\n",
        "print(f\"Work done by person: {W:.2f} J ⇒ Symbolically: {(T/m).n:.2f}·mh\")\n",
        "\n",
        "# c) Speed at bottom (use work-energy)\n",
        "# ΔK = mgh - Work by tension\n",
        "KE = gravity_work(m, 0, -h) - W\n",
        "v = sqrt((2 * KE / m).n)\n",
        "print(f\"Speed at bottom: {v:.2f} m/s\")"
      ]
    },
    {
      "cell_type": "markdown",
      "metadata": {},
      "source": [
        "## 🔹 Problem 6 – Average power from friction\n",
        "A 20 kg block slides at 8 m/s on a rough surface with μ_k = 0.2."
      ]
    },
    {
      "cell_type": "code",
      "execution_count": null,
      "metadata": {},
      "outputs": [],
      "source": [
        "m = 20.0\n",
        "v = 8.0\n",
        "mu_k = 0.2\n",
        "\n",
        "F_f = mu_k * m * gravity()\n",
        "P_avg = instantaneous_power(F_f, v)\n",
        "print(f\"Average power by friction: {-P_avg:.2f} W (negative)\")"
      ]
    },
    {
      "cell_type": "markdown",
      "metadata": {},
      "source": [
        "## 🔹 Problem 7 – Shot put\n",
        "A 7 kg ball is launched at angle 43°, from height 2.2 m and lands 20 m away."
      ]
    },
    {
      "cell_type": "code",
      "execution_count": null,
      "metadata": {},
      "outputs": [],
      "source": [
        "from math import sin\n",
        "\n",
        "m = 7.0\n",
        "L = 20.0\n",
        "h = 2.2\n",
        "theta = radians(43)\n",
        "\n",
        "# a) Time of flight from y(t) = h + v_y t - 1/2 g t² ⇒ solve numerically (skip exact)\n",
        "# Use range formula for projectile (no air drag): R = (v² sin(2θ)) / g\n",
        "# Approximate launch speed:\n",
        "v = sqrt((L * gravity()) / sin(2 * theta))\n",
        "print(f\"Approx. launch speed: {v:.2f} m/s\")\n",
        "\n",
        "# b) Work done by person = ΔK + ΔPE\n",
        "KE = kinetic_energy(m, v)\n",
        "PE = potential_energy(m, h)\n",
        "W = KE + PE\n",
        "print(f\"Work done by person: {W:.2f} J\")"
      ]
    },
    {
      "cell_type": "markdown",
      "metadata": {},
      "source": [
        "## 🔹 Problem 8 – Pulley with friction\n",
        "A system with two masses connected via pulley. Find speed after moving distance l."
      ]
    },
    {
      "cell_type": "code",
      "execution_count": null,
      "metadata": {},
      "outputs": [],
      "source": [
        "m1 = 4.0  # on table\n",
        "m2 = 2.0  # hanging\n",
        "mu_k = 0.2\n",
        "l = 3.0  # meters\n",
        "\n",
        "# Work by gravity on m2\n",
        "W_g = gravity_work(m2, 0, -l)\n",
        "# Work by friction on m1\n",
        "W_f = friction_work(mu_k, m1, l)\n",
        "# Net work = ΔK = 1/2 (m1 + m2) v²\n",
        "W_net = W_g + W_f\n",
        "v = sqrt((2 * W_net / (m1 + m2)).n)\n",
        "print(f\"Speed after {l} m: {v:.2f} m/s\")"
      ]
    }
  ],
  "metadata": {
    "kernelspec": {
      "display_name": "Python 3",
      "language": "python",
      "name": "python3"
    },
    "language_info": {
      "name": "python",
      "version": "3.9"
    }
  },
  "nbformat": 4,
  "nbformat_minor": 5
}
