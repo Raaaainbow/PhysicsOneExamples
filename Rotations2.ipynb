{
  "cells": [
    {
      "cell_type": "markdown",
      "metadata": {},
      "source": [
        "# 🔁 Chapter 11 – Rotational Motion & Conservation\n",
        "Solved using `PhysicsOneA.rotation_energy` module"
      ]
    },
    {
      "cell_type": "code",
      "execution_count": 1,
      "metadata": {},
      "outputs": [],
      "source": [
        "from PhysicsOneA import *\n",
        "from PhysicsOneA.dependencies import *\n"
      ]
    },
    {
      "cell_type": "markdown",
      "metadata": {},
      "source": [
        "## 🔸 Problem 1 – Torque from Force\n",
        "A 4.0 N force is applied at 0.3 m with a 60° angle."
      ]
    },
    {
      "cell_type": "code",
      "execution_count": 2,
      "metadata": {},
      "outputs": [
        {
          "name": "stdout",
          "output_type": "stream",
          "text": [
            "Torque: 1.04+/-0 N·m\n"
          ]
        }
      ],
      "source": [
        "F = 4.0\n",
        "R = 0.3\n",
        "angle = 60\n",
        "\n",
        "tau = torque(F, R, angle)\n",
        "print(f\"Torque: {tau:.2f} N·m\")"
      ]
    },
    {
      "cell_type": "markdown",
      "metadata": {},
      "source": [
        "## 🔸 Problem 2 – Angular Acceleration\n",
        "Given torque and moment of inertia."
      ]
    },
    {
      "cell_type": "code",
      "execution_count": 3,
      "metadata": {},
      "outputs": [
        {
          "name": "stdout",
          "output_type": "stream",
          "text": [
            "Angular acceleration: 0.60+/-0 rad/s²\n"
          ]
        }
      ],
      "source": [
        "I = 2.5  # kg·m²\n",
        "tau = 1.5  # N·m\n",
        "\n",
        "alpha = angular_acceleration(tau, I)\n",
        "print(f\"Angular acceleration: {alpha:.2f} rad/s²\")"
      ]
    },
    {
      "cell_type": "markdown",
      "metadata": {},
      "source": [
        "## 🔸 Problem 3 – Angular → Linear conversion"
      ]
    },
    {
      "cell_type": "code",
      "execution_count": 4,
      "metadata": {},
      "outputs": [
        {
          "name": "stdout",
          "output_type": "stream",
          "text": [
            "Linear velocity: 3.00+/-0 m/s\n"
          ]
        }
      ],
      "source": [
        "R = 0.5\n",
        "omega = 6.0\n",
        "\n",
        "v = linear_from_angular(R, omega=omega)\n",
        "print(f\"Linear velocity: {v:.2f} m/s\")"
      ]
    },
    {
      "cell_type": "markdown",
      "metadata": {},
      "source": [
        "## 🔸 Problem 4 – Conservation of Angular Momentum"
      ]
    },
    {
      "cell_type": "code",
      "execution_count": 5,
      "metadata": {},
      "outputs": [
        {
          "name": "stdout",
          "output_type": "stream",
          "text": [
            "Final angular velocity: 1.20+/-0 rad/s\n"
          ]
        }
      ],
      "source": [
        "I1 = 3.0\n",
        "omega1 = 2.0\n",
        "I2 = 5.0\n",
        "\n",
        "omega2 = angular_velocity_conservation(I1, omega1, I2)\n",
        "print(f\"Final angular velocity: {omega2:.2f} rad/s\")"
      ]
    },
    {
      "cell_type": "markdown",
      "metadata": {},
      "source": [
        "## 🔸 Problem 5 – ω from α over time"
      ]
    },
    {
      "cell_type": "code",
      "execution_count": 6,
      "metadata": {},
      "outputs": [
        {
          "name": "stdout",
          "output_type": "stream",
          "text": [
            "ω after 4s: 6.00+/-0 rad/s\n"
          ]
        }
      ],
      "source": [
        "alpha = 1.5\n",
        "t = 4.0\n",
        "\n",
        "omega = angular_velocity_from_acceleration(alpha, t)\n",
        "print(f\"ω after 4s: {omega:.2f} rad/s\")"
      ]
    },
    {
      "cell_type": "markdown",
      "metadata": {},
      "source": [
        "## 🔸 Problem 6 – ω from height drop using energy conservation"
      ]
    },
    {
      "cell_type": "code",
      "execution_count": 7,
      "metadata": {},
      "outputs": [
        {
          "name": "stdout",
          "output_type": "stream",
          "text": [
            "ω from 1.2m drop: 9.71+/-0 rad/s\n"
          ]
        }
      ],
      "source": [
        "m = 2.0\n",
        "h = 1.2\n",
        "I = 0.5  # kg·m²\n",
        "\n",
        "omega = angular_velocity_from_height(m, h, I)\n",
        "print(f\"ω from 1.2m drop: {omega:.2f} rad/s\")"
      ]
    }
  ],
  "metadata": {
    "kernelspec": {
      "display_name": "Python 3",
      "language": "python",
      "name": "python3"
    },
    "language_info": {
      "codemirror_mode": {
        "name": "ipython",
        "version": 3
      },
      "file_extension": ".py",
      "mimetype": "text/x-python",
      "name": "python",
      "nbconvert_exporter": "python",
      "pygments_lexer": "ipython3",
      "version": "3.12.6"
    }
  },
  "nbformat": 4,
  "nbformat_minor": 5
}
